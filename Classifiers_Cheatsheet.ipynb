{
  "nbformat": 4,
  "nbformat_minor": 0,
  "metadata": {
    "colab": {
      "provenance": []
    },
    "kernelspec": {
      "name": "python3",
      "display_name": "Python 3"
    },
    "language_info": {
      "name": "python"
    }
  },
  "cells": [
    {
      "cell_type": "code",
      "execution_count": null,
      "metadata": {
        "id": "3L1aXxy97pA2"
      },
      "outputs": [],
      "source": [
        "# Defining libraries\n",
        "import numpy as np\n",
        "import matplotlib.pyplot as plt\n",
        "from scipy import stats\n",
        "import seaborn as sns; sns.set()\n",
        "from matplotlib.colors import ListedColormap\n",
        "from sklearn.inspection import DecisionBoundaryDisplay\n",
        "from sklearn import svm\n",
        "from sklearn.neighbors import KNeighborsClassifier\n",
        "from sklearn.tree import DecisionTreeClassifier\n",
        "from sklearn.datasets import make_blobs\n",
        "from sklearn.pipeline import make_pipeline, Pipeline\n",
        "from sklearn.preprocessing import StandardScaler"
      ]
    },
    {
      "cell_type": "code",
      "source": [
        "# Define data - Random for demonstration\n",
        "x, y = make_blobs(n_samples=50, centers=2,\n",
        "                  random_state=0, cluster_std=0.60)"
      ],
      "metadata": {
        "id": "kOfbYj2GYvPx",
        "colab": {
          "base_uri": "https://localhost:8080/"
        },
        "outputId": "1a05c86e-0924-4af7-ed99-a181cb26146f"
      },
      "execution_count": null,
      "outputs": [
        {
          "output_type": "stream",
          "name": "stdout",
          "text": [
            "[[ 1.41281595  1.5303347 ]\n",
            " [ 1.81336135  1.6311307 ]\n",
            " [ 1.43289271  4.37679234]\n",
            " [ 1.87271752  4.18069237]\n",
            " [ 2.09517785  1.0791468 ]\n",
            " [ 2.73890793  0.15676817]\n",
            " [ 3.18515794  0.08900822]\n",
            " [ 2.06156753  1.96918596]\n",
            " [ 2.03835818  1.15466278]\n",
            " [-0.04749204  5.47425256]\n",
            " [ 1.71444449  5.02521524]\n",
            " [ 0.22459286  4.77028154]\n",
            " [ 1.06923853  4.53068484]\n",
            " [ 1.53278923  0.55035386]\n",
            " [ 1.4949318   3.85848832]\n",
            " [ 1.1641107   3.79132988]\n",
            " [ 0.74387399  4.12240568]\n",
            " [ 2.29667251  0.48677761]\n",
            " [ 0.44359863  3.11530945]\n",
            " [ 0.91433877  4.55014643]\n",
            " [ 1.67467427  0.68001896]\n",
            " [ 2.26908736  1.32160756]\n",
            " [ 1.5108885   0.9288309 ]\n",
            " [ 1.65179125  0.68193176]\n",
            " [ 2.49272186  0.97505341]\n",
            " [ 2.33812285  3.43116792]\n",
            " [ 0.67047877  4.04094275]\n",
            " [-0.55552381  4.69595848]\n",
            " [ 2.16172321  0.6565951 ]\n",
            " [ 2.09680487  3.7174206 ]\n",
            " [ 2.18023251  1.48364708]\n",
            " [ 0.43899014  4.53592883]\n",
            " [ 1.24258802  4.50399192]\n",
            " [ 0.00793137  4.17614316]\n",
            " [ 1.89593761  5.18540259]\n",
            " [ 1.868336    0.93136287]\n",
            " [ 2.13141478  1.13885728]\n",
            " [ 1.06269622  5.17635143]\n",
            " [ 2.33466499 -0.02408255]\n",
            " [ 0.669787    3.59540802]\n",
            " [ 1.07714851  1.17533301]\n",
            " [ 1.54632313  4.212973  ]\n",
            " [ 1.56737975 -0.1381059 ]\n",
            " [ 1.35617762  1.43815955]\n",
            " [ 1.00372519  4.19147702]\n",
            " [ 1.29297652  1.47930168]\n",
            " [ 2.94821884  2.03519717]\n",
            " [ 0.3471383   3.45177657]\n",
            " [ 2.76253526  0.78970876]\n",
            " [ 0.76752279  4.39759671]]\n"
          ]
        }
      ]
    },
    {
      "cell_type": "markdown",
      "source": [
        "# Support Vector Machines"
      ],
      "metadata": {
        "id": "w3cHdz9hNsiA"
      }
    },
    {
      "cell_type": "markdown",
      "source": [
        "*   **Brief Description** \\\\\n",
        "      Used to classify points \\\\\n",
        "      Draws a line/plane space to try to seperate and classify points\n",
        "\n",
        "*   **Kernel** \\\\\n",
        "      Augments/transforms the data (Usually by adding another dimension) \\\\\n",
        "      Draws the plane \\\\\n",
        "      Unaugments/untransforms (Kernel trick - method to do this) \\\\\n",
        "      **Linear Kernel** \\\\\n",
        "      **Polynomial Kernel** - Can distinguish curved or nonlinear input space \\\\\n",
        "      **Radial Basis Function(RBF) Kernel** - Can map an input space in infinite dimensional space (Takes in a parameter, gamma, ranges between 0-1, determines how closely it matches the training data, typically 0.1) \\\\\n",
        "\n",
        "*   **Advantages** \\\\\n",
        "      Good for a small training set \\\\\n",
        "      Effective in high dimensional spaces \\\\\n",
        "      Still effective in cases where number of dimensions is greater than the number of samples \n",
        "\n",
        "*   **Disadvantages** \\\\\n",
        "      Cannot classify some points - look at kernel for solution"
      ],
      "metadata": {
        "id": "vdmJpeVqNzCX"
      }
    },
    {
      "cell_type": "markdown",
      "source": [
        "Parameters for svm.SVC: https://scikit-learn.org/stable/modules/generated/sklearn.svm.SVC.html"
      ],
      "metadata": {
        "id": "v2oZidpbq8X5"
      }
    },
    {
      "cell_type": "code",
      "source": [
        "# Initializes the classifier\n",
        "clf = svm.SVC(kernel=\"linear\", C=0.025) # Linear"
      ],
      "metadata": {
        "id": "zMDdV411bg9E"
      },
      "execution_count": null,
      "outputs": []
    },
    {
      "cell_type": "code",
      "source": [
        "# Initializes the classifier\n",
        "clf = svm.SVC(kernel=\"rbf\", gamma=2, C=1) # RBF"
      ],
      "metadata": {
        "id": "6DAzciLAbgSd"
      },
      "execution_count": null,
      "outputs": []
    },
    {
      "cell_type": "markdown",
      "source": [
        "# K Nearest Neighbors"
      ],
      "metadata": {
        "id": "mPTKR9dunsjD"
      }
    },
    {
      "cell_type": "markdown",
      "source": [
        "Best video (2 mins): https://www.youtube.com/watch?v=0p0o5cmgLdE"
      ],
      "metadata": {
        "id": "H5YbFpmrqXw_"
      }
    },
    {
      "cell_type": "code",
      "source": [
        "# Initializes the classifier\n",
        "clf = KNeighborsClassifier(3) # Number of neighbors to use - too high(overfitting), too low(underfitting)"
      ],
      "metadata": {
        "id": "SDI57-itn0Vi"
      },
      "execution_count": null,
      "outputs": []
    },
    {
      "cell_type": "markdown",
      "source": [
        "# Decision Tree"
      ],
      "metadata": {
        "id": "IULDDTOurf3B"
      }
    },
    {
      "cell_type": "markdown",
      "source": [
        "Basically just a decision tree with x and y used to classify points \\\\\n",
        "Can potentially overfit"
      ],
      "metadata": {
        "id": "WFaCIYJ-tPUh"
      }
    },
    {
      "cell_type": "code",
      "source": [
        "# Initializes the classifier\n",
        "clf = DecisionTreeClassifier(max_depth=5)"
      ],
      "metadata": {
        "id": "HRvO-MiQtOyw"
      },
      "execution_count": null,
      "outputs": []
    },
    {
      "cell_type": "markdown",
      "source": [
        "# Creating and Visualizing the classifications"
      ],
      "metadata": {
        "id": "bxjQrwQNmoTD"
      }
    },
    {
      "cell_type": "code",
      "source": [
        "# Creates the classifier\n",
        "clf = make_pipeline(StandardScaler(), clf) # Makes it faster I think\n",
        "clf.fit(x, y)\n",
        "\n",
        "# Predicts class of new data - outputs class (number)\n",
        "pointClass = clf.predict([[2.5, 0]])[0] # xCoord, yCoord"
      ],
      "metadata": {
        "id": "3jaSdV0IcFIY"
      },
      "execution_count": null,
      "outputs": []
    },
    {
      "cell_type": "code",
      "source": [
        "# Plots data and boundaries to help visualise\n",
        "ax = plt.subplot(1, 1, 1)\n",
        "DecisionBoundaryDisplay.from_estimator(clf, x, ax=ax, cmap=plt.cm.RdBu, alpha=0.8, eps=0.5)\n",
        "ax.scatter(x[:, 0], x[:, 1], c=y, s=50, cmap=ListedColormap([\"#FF0000\", \"#0000FF\"]), edgecolors=\"k\");\n",
        "plt.axis('off')\n",
        "plt.show()"
      ],
      "metadata": {
        "colab": {
          "base_uri": "https://localhost:8080/",
          "height": 248
        },
        "id": "mZvqQWxo73D_",
        "outputId": "e8bf9dda-05d8-469d-b1a7-ee8a982e771b"
      },
      "execution_count": null,
      "outputs": [
        {
          "output_type": "display_data",
          "data": {
            "text/plain": [
              "<Figure size 432x288 with 1 Axes>"
            ],
            "image/png": "[encoded data removed]"
          },
          "metadata": {}
        }
      ]
    }
  ]
}