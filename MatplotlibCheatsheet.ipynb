{
  "nbformat": 4,
  "nbformat_minor": 0,
  "metadata": {
    "colab": {
      "provenance": []
    },
    "kernelspec": {
      "name": "python3",
      "display_name": "Python 3"
    },
    "language_info": {
      "name": "python"
    }
  },
  "cells": [
    {
      "cell_type": "code",
      "source": [
        "# Imports libraries\n",
        "import math\n",
        "import matplotlib.pyplot as plt\n",
        "import seaborn as sns\n",
        "import numpy as np\n",
        "from scipy import stats\n",
        "from sklearn.metrics import r2_score"
      ],
      "metadata": {
        "id": "vTWzLZB4sBbe"
      },
      "execution_count": null,
      "outputs": []
    },
    {
      "cell_type": "markdown",
      "source": [
        "# Basic Plotting"
      ],
      "metadata": {
        "id": "McJB2wVO6ylA"
      }
    },
    {
      "cell_type": "code",
      "execution_count": null,
      "metadata": {
        "id": "kUQAqLDLr5kK"
      },
      "outputs": [],
      "source": [
        "# Defines points\n",
        "xPoints = np.array([0, 6])\n",
        "yPoints = np.array([0, 250])\n",
        "\n",
        "# Produces a range of points at regular intervals - non-inclusive\n",
        "rangeOfPoints = np.arange(0, 101, 5) # start, end, interval"
      ]
    },
    {
      "cell_type": "code",
      "source": [
        "# Plots a line between the points\n",
        "plt.plot(xPoints, yPoints)"
      ],
      "metadata": {
        "id": "z8IOiQ5RsIIU"
      },
      "execution_count": null,
      "outputs": []
    },
    {
      "cell_type": "code",
      "source": [
        "# Plots yPoints against 1,2,3,..\n",
        "plt.plot(yPoints)"
      ],
      "metadata": {
        "id": "Uqt2k2fYvWIj"
      },
      "execution_count": null,
      "outputs": []
    },
    {
      "cell_type": "code",
      "source": [
        "plt.plot(xPoints, yPoints)\n",
        "\n",
        "# Sets axis range \n",
        "plt.axis([0, 6, 0, 20]) # xmin, xmax, ymin, ymax"
      ],
      "metadata": {
        "id": "jBr26On030VR"
      },
      "execution_count": null,
      "outputs": []
    },
    {
      "cell_type": "markdown",
      "source": [
        "# Polynomial & Exponential graphs, Axis scaling"
      ],
      "metadata": {
        "id": "JATQ_NZ565x3"
      }
    },
    {
      "cell_type": "code",
      "source": [
        "# Polynomial graphs\n",
        "points = np.arange(10)\n",
        "plt.plot(points, points**2)\n",
        "plt.plot(points, points**3)\n",
        "\n",
        "# Exponential graphs\n",
        "plt.plot(points, np.exp(points))"
      ],
      "metadata": {
        "id": "D9lNkeLh4lc0"
      },
      "execution_count": null,
      "outputs": []
    },
    {
      "cell_type": "code",
      "source": [
        "x = np.arange(20)\n",
        "y = np.arange(20)\n",
        "\n",
        "plt.plot(x, y)\n",
        "\n",
        "# Sets the y scale to ln(y)\n",
        "plt.yscale('log')"
      ],
      "metadata": {
        "id": "vNiCOxgi5Mnx"
      },
      "execution_count": null,
      "outputs": []
    },
    {
      "cell_type": "markdown",
      "source": [
        "# Labelling, Gridlines & General look"
      ],
      "metadata": {
        "id": "P9F2h8yK3kjx"
      }
    },
    {
      "cell_type": "code",
      "source": [
        "# Plot just dots\n",
        "plt.plot(xPoints, yPoints, 'o')\n",
        "\n",
        "# Plots both lines and dots\n",
        "plt.plot(xPoints, yPoints, marker = 'o') \n",
        "\n",
        "# Look here to change look of graph: shorturl.at/euCFY"
      ],
      "metadata": {
        "id": "4dvGJdQzvcZj"
      },
      "execution_count": null,
      "outputs": []
    },
    {
      "cell_type": "code",
      "source": [
        "plt.plot(xPoints, yPoints)\n",
        "\n",
        "# Set axis labels and title\n",
        "plt.title(\"Cartesian axis\")\n",
        "plt.xlabel(\"x\")\n",
        "plt.ylabel(\"y\")\n",
        "\n",
        "# Look here to change look of axis and title: shorturl.at/dhsI1"
      ],
      "metadata": {
        "id": "SURTQZfOv8jl"
      },
      "execution_count": null,
      "outputs": []
    },
    {
      "cell_type": "code",
      "source": [
        "# Show gridlines\n",
        "plt.grid()\n",
        "\n",
        "# Show specific grid lines, x/y\n",
        "plt.grid(axis = 'x')\n",
        "\n",
        "# Other properties\n",
        "plt.grid(color = 'green', linestyle = '--', linewidth = 0.5)"
      ],
      "metadata": {
        "id": "KGVHz1Miybmb"
      },
      "execution_count": null,
      "outputs": []
    },
    {
      "cell_type": "markdown",
      "source": [
        "# Displaying multiple graphs"
      ],
      "metadata": {
        "id": "xTU3wUIV3cIi"
      }
    },
    {
      "cell_type": "code",
      "source": [
        "xPoints1 = np.array([3, 20])\n",
        "yPoints1 = np.array([4, 200])\n",
        "\n",
        "# Plots graphs side by side\n",
        "plt.subplot(1, 2, 1) # num of rows of graphs, num of columns of graphs, graph number\n",
        "plt.plot(xPoints, yPoints)\n",
        "\n",
        "plt.subplot(1, 2, 2)\n",
        "plt.plot(xPoints1, yPoints1)\n",
        "\n",
        "# Title for all graphs\n",
        "plt.suptitle(\"All graphs\")"
      ],
      "metadata": {
        "id": "NprFMEf8zI2J"
      },
      "execution_count": null,
      "outputs": []
    },
    {
      "cell_type": "markdown",
      "source": [
        "# Scatter Graphs"
      ],
      "metadata": {
        "id": "G4FN6Ilk3YOj"
      }
    },
    {
      "cell_type": "code",
      "source": [
        "x = np.array([5,7,8,7,2,17,2,9,4,11,12,9,6])\n",
        "y = np.array([99,86,87,88,111,86,103,87,94,78,77,85,86])\n",
        "\n",
        "# Drawing scatter plots\n",
        "plt.scatter(x, y)\n",
        "\n",
        "plt.show()\n",
        "\n",
        "# Look here to colour dots: shorturl.at/wKW09"
      ],
      "metadata": {
        "id": "s9gNK2l4z9Yr"
      },
      "execution_count": null,
      "outputs": []
    },
    {
      "cell_type": "markdown",
      "source": [
        "# Bar Graphs"
      ],
      "metadata": {
        "id": "4vneHojX3OB3"
      }
    },
    {
      "cell_type": "code",
      "source": [
        "# Plotting bar graphs\n",
        "x = np.array([\"A\", \"B\", \"C\", \"D\"])\n",
        "y = np.array([3, 8, 1, 10])\n",
        "\n",
        "# Vertical bars\n",
        "plt.bar(x, y)\n",
        "\n",
        "# Horizontal bars\n",
        "plt.barh(x, y)\n",
        "\n",
        "plt.show()\n",
        "\n",
        "# Look here to change look of bar graph: shorturl.at/ceW28"
      ],
      "metadata": {
        "colab": {
          "base_uri": "https://localhost:8080/",
          "height": 265
        },
        "id": "bHBsnVx708Rk",
        "outputId": "fb60c4f2-447e-4a5a-99a4-f01e9f0f9fc0"
      },
      "execution_count": null,
      "outputs": [
        {
          "output_type": "display_data",
          "data": {
            "text/plain": [
              "<Figure size 432x288 with 1 Axes>"
            ],
            "image/png": "[encoded data removed]"
          },
          "metadata": {
            "needs_background": "light"
          }
        }
      ]
    },
    {
      "cell_type": "markdown",
      "source": [
        "# Distibutions"
      ],
      "metadata": {
        "id": "c1q6Rn829XY3"
      }
    },
    {
      "cell_type": "code",
      "source": [
        "# Plots a distribution plot for the data\n",
        "sns.distplot([0, 1, 2, 3, 4, 5], hist=False)\n",
        "\n",
        "plt.show()"
      ],
      "metadata": {
        "id": "oLKUzWrWFHnh"
      },
      "execution_count": null,
      "outputs": []
    },
    {
      "cell_type": "code",
      "source": [
        "# Normal distribution\n",
        "\n",
        "# Defines array with normal distribution\n",
        "x = np.random.normal(5.0, 1.0, 100000) # Mean, Standard deviation, Num of points\n",
        "\n",
        "# Plots the normal distribution\n",
        "sns.distplot(x, hist=False)\n",
        "\n",
        "plt.show()"
      ],
      "metadata": {
        "id": "dxdtON3k9WFw"
      },
      "execution_count": null,
      "outputs": []
    },
    {
      "cell_type": "code",
      "source": [
        "# Binomial distribution\n",
        "\n",
        "x = np.random.binomial(n=10, p=0.5, size=1000) # Number of trials, Probability of occurence of each trial, Num of points\n",
        "\n",
        "# Plots the binomial distribution\n",
        "sns.distplot(x, hist=True, kde=False)\n",
        "\n",
        "plt.show()"
      ],
      "metadata": {
        "id": "LtlQAUndFsok"
      },
      "execution_count": null,
      "outputs": []
    },
    {
      "cell_type": "code",
      "source": [
        "# Quickfire other types\n",
        "\n",
        "# Poisson \n",
        "sns.distplot(np.random.poisson(2, 1000), hist=False) # Known number of occurences, Num of points\n",
        "\n",
        "# Uniform\n",
        "sns.distplot(np.random.uniform(0, 1, 1000), hist=False) # Lower bound, Upper bound, Num of points\n",
        "\n",
        "#Logistic\n",
        "sns.distplot(np.random.logistic(1, 2, 1000), hist=False) # Mean, Standard deviation, Num of points\n",
        "\n",
        "# Exponential\n",
        "sns.distplot(np.random.exponential(1, 1000), hist=False) # Scale, Num of points\n",
        "\n",
        "plt.show()"
      ],
      "metadata": {
        "colab": {
          "base_uri": "https://localhost:8080/",
          "height": 427
        },
        "id": "hKqSswltHDdS",
        "outputId": "f7053afa-16e0-4ce8-a860-13f5b0d8595b"
      },
      "execution_count": null,
      "outputs": [
        {
          "output_type": "stream",
          "name": "stderr",
          "text": [
            "/usr/local/lib/python3.8/dist-packages/seaborn/distributions.py:2619: FutureWarning: `distplot` is a deprecated function and will be removed in a future version. Please adapt your code to use either `displot` (a figure-level function with similar flexibility) or `kdeplot` (an axes-level function for kernel density plots).\n",
            "  warnings.warn(msg, FutureWarning)\n",
            "/usr/local/lib/python3.8/dist-packages/seaborn/distributions.py:2619: FutureWarning: `distplot` is a deprecated function and will be removed in a future version. Please adapt your code to use either `displot` (a figure-level function with similar flexibility) or `kdeplot` (an axes-level function for kernel density plots).\n",
            "  warnings.warn(msg, FutureWarning)\n",
            "/usr/local/lib/python3.8/dist-packages/seaborn/distributions.py:2619: FutureWarning: `distplot` is a deprecated function and will be removed in a future version. Please adapt your code to use either `displot` (a figure-level function with similar flexibility) or `kdeplot` (an axes-level function for kernel density plots).\n",
            "  warnings.warn(msg, FutureWarning)\n",
            "/usr/local/lib/python3.8/dist-packages/seaborn/distributions.py:2619: FutureWarning: `distplot` is a deprecated function and will be removed in a future version. Please adapt your code to use either `displot` (a figure-level function with similar flexibility) or `kdeplot` (an axes-level function for kernel density plots).\n",
            "  warnings.warn(msg, FutureWarning)\n"
          ]
        },
        {
          "output_type": "display_data",
          "data": {
            "text/plain": [
              "<Figure size 432x288 with 1 Axes>"
            ],
            "image/png": "[encoded data removed]"
          },
          "metadata": {
            "needs_background": "light"
          }
        }
      ]
    },
    {
      "cell_type": "markdown",
      "source": [
        "# Regressions"
      ],
      "metadata": {
        "id": "ZWIQex-TEsKb"
      }
    },
    {
      "cell_type": "code",
      "source": [
        "# Linear regression\n",
        "\n",
        "x = np.array([5, 7, 8, 7, 2, 17])\n",
        "y = np.array([99, 86, 87, 88, 111, 86])\n",
        "\n",
        "# Gives some key values of the regession\n",
        "slope, intercept, r, p, std_err = stats.linregress(x, y)\n",
        "\n",
        "# Gets m & c values for linear regression\n",
        "m, c = np.polyfit(x, y, 1) # xPoints, yPoints, order (1 - Linear, 2 - Quadratic etc)\n",
        "\n",
        "# Plots the linear regression\n",
        "plt.plot(x, m * x + c)\n",
        "\n",
        "plt.scatter(x, y)\n",
        "plt.show()"
      ],
      "metadata": {
        "id": "cvWsBRCe-euY"
      },
      "execution_count": null,
      "outputs": []
    },
    {
      "cell_type": "code",
      "source": [
        "# Polynomial regression\n",
        "\n",
        "x = np.array([1,2,3,5,6,7,8,9,10,12,13,14,15,16,18,19,21,22])\n",
        "y = np.array([100,90,80,60,60,55,60,65,70,70,75,76,78,79,90,99,99,100])\n",
        "\n",
        "# Creates a polynomial model\n",
        "mymodel = np.poly1d(np.polyfit(x, y, 3))\n",
        "\n",
        "# Defines the range for which we will draw the regression line\n",
        "myline = np.linspace(1, 22, 100) # start, end, num of samples\n",
        "\n",
        "# Calculates the R^2 score of the model (num ranging from 0-1 which represents the strength of the correlation)\n",
        "r2Score = r2_score(y, mymodel(x))\n",
        "\n",
        "# Plots the line\n",
        "plt.plot(myline, mymodel(myline))\n",
        "\n",
        "plt.scatter(x, y)\n",
        "plt.show()"
      ],
      "metadata": {
        "id": "iHaIRoPVApAh"
      },
      "execution_count": null,
      "outputs": []
    },
    {
      "cell_type": "code",
      "source": [
        "# Exponential regression\n",
        "\n",
        "x = np.arange(1, 21, 1)\n",
        "y = np.array([1, 3, 5, 7, 9, 12, 15, 19, 23, 28, 33, 38, 44, 50, 56, 64, 73, 84, 97, 113])\n",
        "\n",
        "# Finds the regression values - y=ae^(bx) --> ln(y) = ln(a) + bx\n",
        "b, lna = np.polyfit(x, np.log(y), 1)\n",
        "\n",
        "# Plots the regression\n",
        "plt.plot(x, math.exp(lna) * np.exp(x)**b)\n",
        "\n",
        "plt.scatter(x, y)\n",
        "plt.show()"
      ],
      "metadata": {
        "id": "gwVJd5wXJZM3"
      },
      "execution_count": null,
      "outputs": []
    },
    {
      "cell_type": "code",
      "source": [
        "# Logarithmic regression\n",
        "\n",
        "x = np.array([11, 23, 31, 43, 51])\n",
        "y = np.array([2, 6, 8, 9, 10]) \n",
        " \n",
        "# Finds the regression values - y = aln(x) + b\n",
        "a, b = np.polyfit(np.log(x), y, 1)\n",
        "\n",
        "# Plots the regression\n",
        "plt.plot(x, a * np.log(x) + b)\n",
        "\n",
        "plt.scatter(x, y)\n",
        "plt.show()"
      ],
      "metadata": {
        "id": "2Kek0wW8PLA0"
      },
      "execution_count": null,
      "outputs": []
    },
    {
      "cell_type": "code",
      "source": [
        "# Multiple regression\n",
        "\n",
        "# For multiple regression look here: shorturl.at/jvBEI"
      ],
      "metadata": {
        "id": "Yp5KQ_MQDxR8"
      },
      "execution_count": null,
      "outputs": []
    }
  ]
}
